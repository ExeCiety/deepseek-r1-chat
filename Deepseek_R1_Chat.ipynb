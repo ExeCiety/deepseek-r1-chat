{
  "cells": [
    {
      "cell_type": "markdown",
      "metadata": {
        "id": "view-in-github",
        "colab_type": "text"
      },
      "source": [
        "<a href=\"https://colab.research.google.com/github/ExeCiety/deepseek-r1-chat/blob/main/Deepseek_R1_Chat.ipynb\" target=\"_parent\"><img src=\"https://colab.research.google.com/assets/colab-badge.svg\" alt=\"Open In Colab\"/></a>"
      ]
    },
    {
      "cell_type": "code",
      "execution_count": null,
      "metadata": {
        "colab": {
          "base_uri": "https://localhost:8080/"
        },
        "id": "2Vcz6Oz2O_re",
        "outputId": "524088e2-0293-47b5-be06-6081df204d1c"
      },
      "outputs": [
        {
          "output_type": "stream",
          "name": "stdout",
          "text": [
            "Thu Jan 30 06:11:52 2025       \n",
            "+-----------------------------------------------------------------------------------------+\n",
            "| NVIDIA-SMI 550.54.15              Driver Version: 550.54.15      CUDA Version: 12.4     |\n",
            "|-----------------------------------------+------------------------+----------------------+\n",
            "| GPU  Name                 Persistence-M | Bus-Id          Disp.A | Volatile Uncorr. ECC |\n",
            "| Fan  Temp   Perf          Pwr:Usage/Cap |           Memory-Usage | GPU-Util  Compute M. |\n",
            "|                                         |                        |               MIG M. |\n",
            "|=========================================+========================+======================|\n",
            "|   0  Tesla T4                       Off |   00000000:00:04.0 Off |                    0 |\n",
            "| N/A   68C    P8             12W /   70W |       0MiB /  15360MiB |      0%      Default |\n",
            "|                                         |                        |                  N/A |\n",
            "+-----------------------------------------+------------------------+----------------------+\n",
            "                                                                                         \n",
            "+-----------------------------------------------------------------------------------------+\n",
            "| Processes:                                                                              |\n",
            "|  GPU   GI   CI        PID   Type   Process name                              GPU Memory |\n",
            "|        ID   ID                                                               Usage      |\n",
            "|=========================================================================================|\n",
            "|  No running processes found                                                             |\n",
            "+-----------------------------------------------------------------------------------------+\n"
          ]
        }
      ],
      "source": [
        "!nvidia-smi"
      ]
    },
    {
      "cell_type": "code",
      "execution_count": null,
      "metadata": {
        "colab": {
          "base_uri": "https://localhost:8080/"
        },
        "id": "uzDADocq3gP5",
        "outputId": "0244626d-49d6-4700-9065-c27679d7962c"
      },
      "outputs": [
        {
          "output_type": "stream",
          "name": "stdout",
          "text": [
            "\u001b[2K   \u001b[90m━━━━━━━━━━━━━━━━━━━━━━━━━━━━━━━━━━━━━━━━\u001b[0m \u001b[32m363.4/363.4 MB\u001b[0m \u001b[31m4.4 MB/s\u001b[0m eta \u001b[36m0:00:00\u001b[0m\n",
            "\u001b[2K   \u001b[90m━━━━━━━━━━━━━━━━━━━━━━━━━━━━━━━━━━━━━━━━\u001b[0m \u001b[32m13.8/13.8 MB\u001b[0m \u001b[31m57.2 MB/s\u001b[0m eta \u001b[36m0:00:00\u001b[0m\n",
            "\u001b[2K   \u001b[90m━━━━━━━━━━━━━━━━━━━━━━━━━━━━━━━━━━━━━━━━\u001b[0m \u001b[32m24.6/24.6 MB\u001b[0m \u001b[31m33.1 MB/s\u001b[0m eta \u001b[36m0:00:00\u001b[0m\n",
            "\u001b[2K   \u001b[90m━━━━━━━━━━━━━━━━━━━━━━━━━━━━━━━━━━━━━━━━\u001b[0m \u001b[32m883.7/883.7 kB\u001b[0m \u001b[31m53.8 MB/s\u001b[0m eta \u001b[36m0:00:00\u001b[0m\n",
            "\u001b[2K   \u001b[90m━━━━━━━━━━━━━━━━━━━━━━━━━━━━━━━━━━━━━━━━\u001b[0m \u001b[32m664.8/664.8 MB\u001b[0m \u001b[31m2.7 MB/s\u001b[0m eta \u001b[36m0:00:00\u001b[0m\n",
            "\u001b[2K   \u001b[90m━━━━━━━━━━━━━━━━━━━━━━━━━━━━━━━━━━━━━━━━\u001b[0m \u001b[32m211.5/211.5 MB\u001b[0m \u001b[31m5.6 MB/s\u001b[0m eta \u001b[36m0:00:00\u001b[0m\n",
            "\u001b[2K   \u001b[90m━━━━━━━━━━━━━━━━━━━━━━━━━━━━━━━━━━━━━━━━\u001b[0m \u001b[32m56.3/56.3 MB\u001b[0m \u001b[31m15.8 MB/s\u001b[0m eta \u001b[36m0:00:00\u001b[0m\n",
            "\u001b[2K   \u001b[90m━━━━━━━━━━━━━━━━━━━━━━━━━━━━━━━━━━━━━━━━\u001b[0m \u001b[32m127.9/127.9 MB\u001b[0m \u001b[31m7.2 MB/s\u001b[0m eta \u001b[36m0:00:00\u001b[0m\n",
            "\u001b[2K   \u001b[90m━━━━━━━━━━━━━━━━━━━━━━━━━━━━━━━━━━━━━━━━\u001b[0m \u001b[32m207.5/207.5 MB\u001b[0m \u001b[31m5.7 MB/s\u001b[0m eta \u001b[36m0:00:00\u001b[0m\n",
            "\u001b[2K   \u001b[90m━━━━━━━━━━━━━━━━━━━━━━━━━━━━━━━━━━━━━━━━\u001b[0m \u001b[32m21.1/21.1 MB\u001b[0m \u001b[31m59.8 MB/s\u001b[0m eta \u001b[36m0:00:00\u001b[0m\n",
            "\u001b[2K   \u001b[90m━━━━━━━━━━━━━━━━━━━━━━━━━━━━━━━━━━━━━━━━\u001b[0m \u001b[32m57.6/57.6 MB\u001b[0m \u001b[31m11.9 MB/s\u001b[0m eta \u001b[36m0:00:00\u001b[0m\n",
            "\u001b[2K   \u001b[90m━━━━━━━━━━━━━━━━━━━━━━━━━━━━━━━━━━━━━━━━\u001b[0m \u001b[32m321.8/321.8 kB\u001b[0m \u001b[31m24.0 MB/s\u001b[0m eta \u001b[36m0:00:00\u001b[0m\n",
            "\u001b[2K   \u001b[90m━━━━━━━━━━━━━━━━━━━━━━━━━━━━━━━━━━━━━━━━\u001b[0m \u001b[32m94.8/94.8 kB\u001b[0m \u001b[31m9.0 MB/s\u001b[0m eta \u001b[36m0:00:00\u001b[0m\n",
            "\u001b[2K   \u001b[90m━━━━━━━━━━━━━━━━━━━━━━━━━━━━━━━━━━━━━━━━\u001b[0m \u001b[32m12.4/12.4 MB\u001b[0m \u001b[31m114.2 MB/s\u001b[0m eta \u001b[36m0:00:00\u001b[0m\n",
            "\u001b[2K   \u001b[90m━━━━━━━━━━━━━━━━━━━━━━━━━━━━━━━━━━━━━━━━\u001b[0m \u001b[32m71.5/71.5 kB\u001b[0m \u001b[31m6.7 MB/s\u001b[0m eta \u001b[36m0:00:00\u001b[0m\n",
            "\u001b[2K   \u001b[90m━━━━━━━━━━━━━━━━━━━━━━━━━━━━━━━━━━━━━━━━\u001b[0m \u001b[32m62.3/62.3 kB\u001b[0m \u001b[31m5.9 MB/s\u001b[0m eta \u001b[36m0:00:00\u001b[0m\n",
            "\u001b[?25h"
          ]
        }
      ],
      "source": [
        "!pip install -q transformers torch gradio accelerate sentencepiece"
      ]
    },
    {
      "cell_type": "code",
      "execution_count": null,
      "metadata": {
        "id": "VUsRgQtEVjL0"
      },
      "outputs": [],
      "source": [
        "# Authenticate with Hugging Face\n",
        "from huggingface_hub import login\n",
        "login(token=\"\")  # Replace with your actual token"
      ]
    },
    {
      "cell_type": "code",
      "execution_count": null,
      "metadata": {
        "id": "YqV6X0uqUptL"
      },
      "outputs": [],
      "source": [
        "import torch\n",
        "from transformers import AutoModelForCausalLM, AutoTokenizer, TextIteratorStreamer\n",
        "from threading import Thread\n",
        "import gradio as gr\n",
        "import re\n",
        "\n",
        "# Inisialisasi model dan tokenizer\n",
        "model_name = \"deepseek-ai/DeepSeek-R1-Distill-Qwen-1.5B\"  # Ganti dengan model yang sesuai\n",
        "tokenizer = AutoTokenizer.from_pretrained(model_name)\n",
        "model = AutoModelForCausalLM.from_pretrained(\n",
        "    model_name,\n",
        "    device_map=\"auto\",\n",
        "    trust_remote_code=True,\n",
        "    torch_dtype=torch.float16\n",
        ")\n",
        "\n",
        "# Optional manual fallback\n",
        "if next(model.parameters()).device.type != \"cuda\":\n",
        "    model = model.to(\"cuda\")"
      ]
    },
    {
      "cell_type": "code",
      "execution_count": null,
      "metadata": {
        "id": "oFoag6oRTRfD"
      },
      "outputs": [],
      "source": [
        "def format_message(message, file_content):\n",
        "    return message\n",
        "\n",
        "def process_response(text):\n",
        "    # Cleanup khusus untuk model Mistral\n",
        "    text = text.replace(\"</s>\", \"\").strip()\n",
        "    text = re.sub(r'\\n{3,}', '\\n\\n', text)\n",
        "\n",
        "    return text\n",
        "\n",
        "\n",
        "def chat_stream(file_obj, user_message, chat_history):\n",
        "    try:\n",
        "        # File handling\n",
        "        file_content = \"\"\n",
        "        if file_obj is not None:\n",
        "            with open(file_obj.name, 'r', encoding='utf-8') as f:\n",
        "                file_content = f.read().strip()\n",
        "\n",
        "        # Format prompt\n",
        "        prompt = format_message(user_message, file_content)\n",
        "\n",
        "        # Tokenisasi\n",
        "        inputs = tokenizer(\n",
        "            prompt,\n",
        "            return_tensors=\"pt\",\n",
        "            truncation=True,\n",
        "            max_length=4096\n",
        "        ).to(model.device)\n",
        "\n",
        "        # Streamer config\n",
        "        streamer = TextIteratorStreamer(\n",
        "            tokenizer,\n",
        "            skip_prompt=True,\n",
        "            skip_special_tokens=False,\n",
        "            timeout=30\n",
        "        )\n",
        "\n",
        "        # Generation parameters\n",
        "        generation_kwargs = {\n",
        "            **inputs,\n",
        "            \"streamer\": streamer,\n",
        "            \"max_new_tokens\": 2048,\n",
        "            \"temperature\": 0.3,\n",
        "            \"top_p\": 0.9,\n",
        "            \"repetition_penalty\": 1.1,\n",
        "            \"do_sample\": True,\n",
        "            \"pad_token_id\": tokenizer.eos_token_id,\n",
        "        }\n",
        "\n",
        "        # Start generation\n",
        "        thread = Thread(target=model.generate, kwargs=generation_kwargs)\n",
        "        thread.start()\n",
        "\n",
        "        # Update chat history\n",
        "        chat_history.append([user_message, \"\"])\n",
        "        accumulated_response = \"\"\n",
        "\n",
        "        # Stream handling dengan buffer\n",
        "        buffer = \"\"\n",
        "        for new_token in streamer:\n",
        "            buffer += new_token\n",
        "            print(new_token)\n",
        "\n",
        "            # Proses ketika ada line break atau punctuation\n",
        "            if re.search(r'[\\n.!?]', new_token):\n",
        "                accumulated_response += buffer\n",
        "                buffer = \"\"\n",
        "\n",
        "                # Process dan update\n",
        "                processed = process_response(accumulated_response)\n",
        "                if chat_history[-1][1] != processed:\n",
        "                    chat_history[-1][1] = processed\n",
        "                    yield chat_history\n",
        "\n",
        "        # Final flush buffer\n",
        "        if buffer:\n",
        "            accumulated_response += buffer\n",
        "            processed = process_response(accumulated_response)\n",
        "            chat_history[-1][1] = processed\n",
        "            yield chat_history\n",
        "\n",
        "    except Exception as e:\n",
        "        error_msg = f\"🚨 Error: {str(e)}\"\n",
        "        chat_history[-1][1] = error_msg\n",
        "        yield chat_history\n",
        "\n",
        "# CSS Custom\n",
        "custom_css = \"\"\n",
        "\n",
        "# Gradio Interface\n",
        "with gr.Blocks(theme=gr.themes.Soft(), css=custom_css) as demo:\n",
        "    gr.Markdown(\"# 🧠 DeepSeek R1\")\n",
        "\n",
        "    chatbot = gr.Chatbot(\n",
        "        elem_id=\"chatbot\",\n",
        "        render_markdown=True,\n",
        "        latex_delimiters=[\n",
        "            {\"left\": \"$\", \"right\": \"$\", \"display\": False},\n",
        "            {\"left\": \"$$\", \"right\": \"$$\", \"display\": True}\n",
        "        ]\n",
        "    )\n",
        "\n",
        "    with gr.Row():\n",
        "      file_input = gr.File(\n",
        "          label=\"📁 Upload File (TXT only)\",\n",
        "          file_types=['.txt'],\n",
        "          type=\"filepath\"\n",
        "      )\n",
        "      user_input = gr.Textbox(\n",
        "          placeholder=\"\",\n",
        "          lines=5,\n",
        "          max_lines=6,\n",
        "          label=\"Prompt\"\n",
        "      )\n",
        "\n",
        "    submit_btn = gr.Button(\"🚀 Send\", variant=\"primary\")\n",
        "\n",
        "    submit_btn.click(\n",
        "        chat_stream,\n",
        "        inputs=[file_input, user_input, chatbot],\n",
        "        outputs=chatbot\n",
        "    )\n",
        "\n",
        "    user_input.submit(\n",
        "        chat_stream,\n",
        "        inputs=[file_input, user_input, chatbot],\n",
        "        outputs=chatbot\n",
        "    )\n",
        "\n",
        "if __name__ == \"__main__\":\n",
        "    demo.queue().launch(server_name=\"0.0.0.0\", debug=True)"
      ]
    }
  ],
  "metadata": {
    "accelerator": "GPU",
    "colab": {
      "gpuType": "T4",
      "provenance": [],
      "include_colab_link": true
    },
    "kernelspec": {
      "display_name": "Python 3",
      "name": "python3"
    },
    "language_info": {
      "name": "python"
    }
  },
  "nbformat": 4,
  "nbformat_minor": 0
}